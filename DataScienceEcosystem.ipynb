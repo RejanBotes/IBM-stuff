{
 "cells": [
  {
   "cell_type": "markdown",
   "id": "1b264d86-cf9e-4dcd-b870-efc3e7eaa93c",
   "metadata": {
    "tags": []
   },
   "source": [
    "# Data Science Tools and Ecosystem"
   ]
  },
  {
   "cell_type": "markdown",
   "id": "7b907ecf-78b4-4eba-ada4-c80ba83a26e9",
   "metadata": {},
   "source": [
    "In this notebook, Data Science Tools and Ecosystems are summarized."
   ]
  },
  {
   "cell_type": "markdown",
   "id": "9e09031e-57ae-4d55-ba0f-f68d87d77f05",
   "metadata": {},
   "source": [
    "Objectives: \n",
    "- List popular languages for Data Science.\n",
    "- Name commonly used libraries in Data Science.\n",
    "- List Data Science Tools."
   ]
  },
  {
   "cell_type": "markdown",
   "id": "7cdad6da-266d-4e66-aabf-9ded36315881",
   "metadata": {},
   "source": [
    "Some of the popular languages that Data Scientists use are:\n",
    "1. R\n",
    "2. Python\n",
    "3. Java"
   ]
  },
  {
   "cell_type": "markdown",
   "id": "633f43ad-ac07-4bb1-864d-5dc152736086",
   "metadata": {},
   "source": [
    "Some of the commonly used libraries used by Data Scientists are: \n",
    "1. NumPy\n",
    "2. Pandas\n",
    "3. Matplotlib"
   ]
  },
  {
   "cell_type": "markdown",
   "id": "f4ff410b-ef58-45eb-909e-1552548dcb9d",
   "metadata": {
    "tags": []
   },
   "source": [
    "|Data Science Tools|\n",
    "|----|\n",
    "|Rstudio|\n",
    "|APACHE Hadoop|\n",
    "|TensorFlow|"
   ]
  },
  {
   "cell_type": "markdown",
   "id": "2bf80dbc-64e9-4d8d-816e-983d38774c02",
   "metadata": {},
   "source": [
    "### Below are a few examples of arithmetic expressions in Python\n"
   ]
  },
  {
   "cell_type": "code",
   "execution_count": 2,
   "id": "5b26235d-6ee8-48a4-84c1-de33c1f5c50e",
   "metadata": {
    "tags": []
   },
   "outputs": [
    {
     "data": {
      "text/plain": [
       "17"
      ]
     },
     "execution_count": 2,
     "metadata": {},
     "output_type": "execute_result"
    }
   ],
   "source": [
    "# this is a simple arithmetic expression to multiply then add integers\n",
    "(3*4) + 5"
   ]
  },
  {
   "cell_type": "code",
   "execution_count": 3,
   "id": "1ec13b92-a0b6-4df7-b04a-5e6f8625f007",
   "metadata": {
    "tags": []
   },
   "outputs": [
    {
     "data": {
      "text/plain": [
       "3.3333333333333335"
      ]
     },
     "execution_count": 3,
     "metadata": {},
     "output_type": "execute_result"
    }
   ],
   "source": [
    "# This will convert 200 mins to hours by dividing by 60\n",
    "(200/60)"
   ]
  },
  {
   "cell_type": "markdown",
   "id": "47dd5626-a05a-4a64-ae10-c8008d59d90e",
   "metadata": {},
   "source": [
    "## Author\n",
    "Rejan"
   ]
  }
 ],
 "metadata": {
  "kernelspec": {
   "display_name": "Python",
   "language": "python",
   "name": "conda-env-python-py"
  },
  "language_info": {
   "codemirror_mode": {
    "name": "ipython",
    "version": 3
   },
   "file_extension": ".py",
   "mimetype": "text/x-python",
   "name": "python",
   "nbconvert_exporter": "python",
   "pygments_lexer": "ipython3",
   "version": "3.7.12"
  }
 },
 "nbformat": 4,
 "nbformat_minor": 5
}
